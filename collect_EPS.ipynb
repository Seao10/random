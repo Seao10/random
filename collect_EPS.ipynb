{
 "cells": [
  {
   "cell_type": "code",
   "execution_count": 52,
   "metadata": {},
   "outputs": [],
   "source": [
    "import pandas as pd\n",
    "import numpy as np"
   ]
  },
  {
   "cell_type": "code",
   "execution_count": 21,
   "metadata": {},
   "outputs": [],
   "source": [
    "pe = pd.read_csv(\"historical_pe_ratio.csv\")\n",
    "pe.set_index(\"Unnamed: 0\", inplace=True)\n",
    "price = pd.read_csv(\"data/sp500_close_data.csv\")\n",
    "price.set_index(\"Date\", inplace=True)"
   ]
  },
  {
   "cell_type": "code",
   "execution_count": 47,
   "metadata": {},
   "outputs": [],
   "source": [
    "data = []\n",
    "dates = pe.index\n",
    "price.index = pd.to_datetime(price.index)\n",
    "\n",
    "for j in dates:\n",
    "    try:\n",
    "        row = price.loc[j]\n",
    "    except KeyError:\n",
    "        closest_date = price.index[min(range(len(price.index)), key=lambda i: abs(price.index[i] - pd.to_datetime(j)))]\n",
    "        row = price.loc[closest_date]\n",
    "\n",
    "    data.append(row)"
   ]
  },
  {
   "cell_type": "code",
   "execution_count": 63,
   "metadata": {},
   "outputs": [],
   "source": [
    "df = pd.DataFrame(np.array(data), columns=pe.columns)\n",
    "df.index = (pd.date_range(start='2014-07-01', end='2024-04-01', freq='Q').strftime('%Y-%m-%d').tolist())[::-1]\n"
   ]
  },
  {
   "cell_type": "code",
   "execution_count": 84,
   "metadata": {},
   "outputs": [],
   "source": [
    "df1_numeric = pd.to_numeric(df.stack(), errors='coerce').unstack()\n",
    "df2_numeric = pd.to_numeric(pe.stack(), errors='coerce').unstack()\n",
    "\n",
    "result = df1_numeric.div(df2_numeric)"
   ]
  },
  {
   "cell_type": "code",
   "execution_count": 85,
   "metadata": {},
   "outputs": [],
   "source": [
    "for col in result.columns:\n",
    "    if col != 'Year':\n",
    "        result[col] = result[col].fillna(result[col].shift(1).rolling(window=3, min_periods=1).mean())"
   ]
  },
  {
   "cell_type": "code",
   "execution_count": 87,
   "metadata": {},
   "outputs": [],
   "source": [
    "result.to_csv(\"historical_eps.csv\")"
   ]
  },
  {
   "cell_type": "code",
   "execution_count": null,
   "metadata": {},
   "outputs": [],
   "source": []
  }
 ],
 "metadata": {
  "kernelspec": {
   "display_name": "base",
   "language": "python",
   "name": "python3"
  },
  "language_info": {
   "codemirror_mode": {
    "name": "ipython",
    "version": 3
   },
   "file_extension": ".py",
   "mimetype": "text/x-python",
   "name": "python",
   "nbconvert_exporter": "python",
   "pygments_lexer": "ipython3",
   "version": "3.1.-1"
  }
 },
 "nbformat": 4,
 "nbformat_minor": 2
}
