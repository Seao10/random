{
 "cells": [
  {
   "cell_type": "code",
   "execution_count": 1,
   "metadata": {},
   "outputs": [],
   "source": [
    "import pandas as pd\n",
    "import numpy as np"
   ]
  },
  {
   "cell_type": "code",
   "execution_count": 2,
   "metadata": {},
   "outputs": [],
   "source": [
    "pe_df = pd.read_csv(\"historical_pe_ratio.csv\")\n",
    "pe_df.set_index(\"Unnamed: 0\", inplace=True)\n",
    "eps_df = pd.read_csv(\"historical_eps.csv\")\n",
    "eps_df.set_index(\"Unnamed: 0\", inplace=True)\n",
    "price = pd.read_csv(\"data/sp500_close_data.csv\")"
   ]
  },
  {
   "cell_type": "code",
   "execution_count": 3,
   "metadata": {},
   "outputs": [],
   "source": [
    "# Will be calculated for all dates after '2016-12-31'\n",
    "# Will remain same for a particular quarter\n",
    "\n",
    "# Step 1: Check for a Stable/Unstable Earning Pattern - Reject those with unstable earnings pattern\n",
    "# Step 2: Calculate the Average P/E (Intrinsic P/E)\n",
    "# Step 3: Estimate the EPS Growth Rate\n",
    "# Step 4: Estimate the P/E Growth Rate\n",
    "# Step 5: Average PE * Last EPS = Intrinsic value lower bound \n",
    "# Step 6: Expected PE * Expected EPS = Intrinsic value upper bound"
   ]
  },
  {
   "cell_type": "code",
   "execution_count": 4,
   "metadata": {},
   "outputs": [],
   "source": [
    "def preceding_date(given):\n",
    "    given_date = pd.Timestamp(given)\n",
    "    date_list = list(pe_df.index)\n",
    "    date_list = pd.to_datetime(date_list)\n",
    "    time_diffs = [(given_date - date).days for date in date_list]\n",
    "    min_diff_index = min(i for i, diff in enumerate(time_diffs) if diff > 0)\n",
    "    preceding_date = date_list[min_diff_index]\n",
    "    return str(preceding_date.date())"
   ]
  },
  {
   "cell_type": "code",
   "execution_count": 5,
   "metadata": {},
   "outputs": [],
   "source": [
    "def growth_rate(eps):\n",
    "    eps_gr = (eps[-1]/eps[0])**(1/len(eps)) \n",
    "    return eps_gr"
   ]
  },
  {
   "cell_type": "code",
   "execution_count": 6,
   "metadata": {},
   "outputs": [],
   "source": [
    "def stability(eps):\n",
    "    mid_point = len(eps) // 2\n",
    "    eps_mean_first_half = np.mean(eps[:mid_point])\n",
    "    eps_mean_second_half = np.mean(eps[mid_point:])\n",
    "\n",
    "    if (eps_mean_second_half > eps_mean_first_half) and growth_rate(eps) > 1:\n",
    "        return 1\n",
    "    else :\n",
    "        return 0"
   ]
  },
  {
   "cell_type": "code",
   "execution_count": 7,
   "metadata": {},
   "outputs": [],
   "source": [
    "def intrinsic_value(eps, pe):\n",
    "    if stability(eps):\n",
    "\n",
    "        ape = np.mean(pe)\n",
    "        last_eps = eps[-1]\n",
    "        epe = pe[-1]*(growth_rate(pe))\n",
    "        eeps = last_eps*(growth_rate(eps))\n",
    "        return [ape*last_eps, epe*eeps]\n",
    "    \n",
    "    else:\n",
    "        return \"NA\""
   ]
  },
  {
   "cell_type": "code",
   "execution_count": 8,
   "metadata": {},
   "outputs": [],
   "source": [
    "def calculate_intrinsic_value(given_date):\n",
    "    \n",
    "    q_date = preceding_date(given_date)\n",
    "    prev_eps = eps_df.loc[:q_date:-1]\n",
    "    prev_pe = pe_df.loc[:q_date:-1]\n",
    "\n",
    "    results = []\n",
    "    for i in price.columns[1:]:\n",
    "        results.append(intrinsic_value(prev_eps[i], prev_pe[i]))\n",
    "\n",
    "    healthy = []\n",
    "\n",
    "    for i in results:\n",
    "        if i == 'NA':\n",
    "            healthy.append(\"NA\")\n",
    "            continue\n",
    "        elif i[0] > 0 and i[1] > 0:\n",
    "            healthy.append(i)\n",
    "        else:\n",
    "            healthy.append(\"NA\")\n",
    "    \n",
    "    return healthy"
   ]
  },
  {
   "cell_type": "code",
   "execution_count": 9,
   "metadata": {},
   "outputs": [
    {
     "name": "stderr",
     "output_type": "stream",
     "text": [
      "/var/folders/yl/5879yj014q11kbqcnjh_rd0m0000gn/T/ipykernel_20430/3699704206.py:2: RuntimeWarning: invalid value encountered in double_scalars\n",
      "  eps_gr = (eps[-1]/eps[0])**(1/len(eps))\n"
     ]
    }
   ],
   "source": [
    "given_date = \"2018-09-11\"\n",
    "IV = calculate_intrinsic_value(given_date)"
   ]
  },
  {
   "cell_type": "code",
   "execution_count": 10,
   "metadata": {},
   "outputs": [
    {
     "name": "stdout",
     "output_type": "stream",
     "text": [
      "Date\n",
      "AAPL\n",
      "ABT\n",
      "ACN\n",
      "ADBE\n",
      "ADP\n",
      "AXP\n",
      "BAC\n",
      "BKNG\n",
      "BLK\n",
      "CB\n",
      "CI\n",
      "COP\n",
      "CVX\n",
      "DHR\n",
      "DIS\n",
      "ELV\n",
      "ETN\n",
      "GE\n",
      "GOOG\n",
      "GOOGL\n",
      "GS\n",
      "IBM\n",
      "INTU\n",
      "JNJ\n",
      "JPM\n",
      "LLY\n",
      "LMT\n",
      "LRCX\n",
      "MA\n",
      "MDT\n",
      "META\n",
      "MRK\n",
      "MS\n",
      "MSFT\n",
      "MU\n",
      "NEE\n",
      "NKE\n",
      "NOW\n",
      "PEP\n",
      "PG\n",
      "PGR\n",
      "QCOM\n",
      "RTX\n",
      "SBUX\n",
      "SNPS\n",
      "SPGI\n",
      "SYK\n",
      "T\n",
      "TJX\n",
      "TSLA\n",
      "TXN\n",
      "UNH\n",
      "UNP\n",
      "UPS\n",
      "VRTX\n"
     ]
    }
   ],
   "source": [
    "for i in range(len(price.columns[1:])):\n",
    "    if IV[i] != 'NA':\n",
    "        print(price.columns[i])"
   ]
  },
  {
   "cell_type": "code",
   "execution_count": null,
   "metadata": {},
   "outputs": [],
   "source": []
  }
 ],
 "metadata": {
  "kernelspec": {
   "display_name": "base",
   "language": "python",
   "name": "python3"
  },
  "language_info": {
   "codemirror_mode": {
    "name": "ipython",
    "version": 3
   },
   "file_extension": ".py",
   "mimetype": "text/x-python",
   "name": "python",
   "nbconvert_exporter": "python",
   "pygments_lexer": "ipython3",
   "version": "3.11.4"
  }
 },
 "nbformat": 4,
 "nbformat_minor": 2
}
