{
 "cells": [
  {
   "cell_type": "code",
   "execution_count": 1,
   "metadata": {},
   "outputs": [],
   "source": [
    "import pandas as pd\n",
    "import numpy as np"
   ]
  },
  {
   "cell_type": "code",
   "execution_count": 2,
   "metadata": {},
   "outputs": [],
   "source": [
    "eps_df = pd.read_csv(\"historical_eps.csv\")\n",
    "eps_df.set_index(\"Unnamed: 0\", inplace=True)\n",
    "rfr = pd.read_csv(\"CorpAAA.csv\")\n",
    "rfr.set_index(\"DATE\", inplace=True)"
   ]
  },
  {
   "cell_type": "code",
   "execution_count": 3,
   "metadata": {},
   "outputs": [],
   "source": [
    "def preceding_date1(given):\n",
    "    given_date = pd.Timestamp(given)\n",
    "    date_list = list(eps_df.index)\n",
    "    date_list = pd.to_datetime(date_list)\n",
    "    time_diffs = [(given_date - date).days for date in date_list]\n",
    "    min_diff_index = min(i for i, diff in enumerate(time_diffs) if diff > 0)\n",
    "    preceding_date = date_list[min_diff_index]\n",
    "    return str(preceding_date.date())"
   ]
  },
  {
   "cell_type": "code",
   "execution_count": 4,
   "metadata": {},
   "outputs": [],
   "source": [
    "def preceding_date2(given):\n",
    "    given_date = pd.Timestamp(given)\n",
    "    date_list = list(rfr.index)\n",
    "    date_list = pd.to_datetime(date_list)\n",
    "    time_diffs = [(given_date - date).days for date in date_list]\n",
    "    min = 10\n",
    "    min_ind = 0\n",
    "    for i, diff in enumerate(time_diffs):\n",
    "        if diff < min and diff >= 0:\n",
    "            min_ind = i\n",
    "    preceding_date = date_list[min_ind]\n",
    "    return str(preceding_date.date())"
   ]
  },
  {
   "cell_type": "code",
   "execution_count": 5,
   "metadata": {},
   "outputs": [],
   "source": [
    "def growth_rate(eps):\n",
    "    eps_gr = ((eps[-1]/eps[0])**(1/len(eps)) - 1)*100\n",
    "    return eps_gr"
   ]
  },
  {
   "cell_type": "code",
   "execution_count": 6,
   "metadata": {},
   "outputs": [],
   "source": [
    "def stability(eps):\n",
    "    mid_point = len(eps) // 2\n",
    "    eps_mean_first_half = np.mean(eps[:mid_point])\n",
    "    eps_mean_second_half = np.mean(eps[mid_point:])\n",
    "\n",
    "    if (eps_mean_second_half > eps_mean_first_half) and (eps[-1]/eps[0])**(1/len(eps)) > 1:\n",
    "        return 1\n",
    "    else :\n",
    "        return 0"
   ]
  },
  {
   "cell_type": "code",
   "execution_count": 15,
   "metadata": {},
   "outputs": [],
   "source": [
    "def intrinsic_value(eps, bond_yield):\n",
    "    if stability(eps):\n",
    "        gr = growth_rate(eps)\n",
    "        last_eps = eps[-1]\n",
    "        return [(last_eps * (7 + 1 * gr) * 4.4) / bond_yield, (last_eps * (8 + 1.5 * gr) * 4.4) / bond_yield]\n",
    "    else:\n",
    "        return (\"NA\")"
   ]
  },
  {
   "cell_type": "code",
   "execution_count": 16,
   "metadata": {},
   "outputs": [],
   "source": [
    "def calculate_intrinsic_value(given_date):\n",
    "    \n",
    "    q_date = preceding_date1(given_date)\n",
    "    prev_eps = eps_df.loc[:q_date:-1]\n",
    "    bond_yield = float(rfr.loc[preceding_date2(given_date)])\n",
    "\n",
    "    results = []\n",
    "\n",
    "    for i in eps_df.columns[1:]:\n",
    "        results.append(intrinsic_value(prev_eps[i], bond_yield))\n",
    "\n",
    "    healthy = []\n",
    "\n",
    "    for i in results:\n",
    "        if i == 'NA':\n",
    "            healthy.append(\"NA\")\n",
    "            continue\n",
    "        elif i[0] > 0 and i[1] > 0:\n",
    "            healthy.append(i)\n",
    "        else:\n",
    "            healthy.append(\"NA\")\n",
    "    \n",
    "    return healthy"
   ]
  },
  {
   "cell_type": "code",
   "execution_count": 20,
   "metadata": {},
   "outputs": [
    {
     "name": "stderr",
     "output_type": "stream",
     "text": [
      "/var/folders/yl/5879yj014q11kbqcnjh_rd0m0000gn/T/ipykernel_22422/2779111783.py:6: RuntimeWarning: invalid value encountered in double_scalars\n",
      "  if (eps_mean_second_half > eps_mean_first_half) and (eps[-1]/eps[0])**(1/len(eps)) > 1:\n"
     ]
    }
   ],
   "source": [
    "IV = calculate_intrinsic_value(\"2018-09-11\")"
   ]
  },
  {
   "cell_type": "code",
   "execution_count": 24,
   "metadata": {},
   "outputs": [
    {
     "name": "stdout",
     "output_type": "stream",
     "text": [
      "AAPL\n",
      "ABT\n",
      "ACN\n",
      "ADBE\n",
      "ADP\n",
      "AMAT\n",
      "AXP\n",
      "BAC\n",
      "BKNG\n",
      "BLK\n",
      "BRK-B\n",
      "CAT\n",
      "CB\n",
      "CI\n",
      "COP\n",
      "CVX\n",
      "DHR\n",
      "DIS\n",
      "ELV\n",
      "ETN\n",
      "GE\n",
      "GOOG\n",
      "GOOGL\n",
      "GS\n",
      "IBM\n",
      "INTU\n",
      "JNJ\n",
      "JPM\n",
      "LLY\n",
      "LMT\n",
      "LOW\n",
      "LRCX\n",
      "MA\n",
      "MDLZ\n",
      "MDT\n",
      "META\n",
      "MRK\n",
      "MS\n",
      "MSFT\n",
      "MU\n",
      "NEE\n",
      "NOW\n",
      "PEP\n",
      "PG\n",
      "PGR\n",
      "QCOM\n",
      "RTX\n",
      "SBUX\n",
      "SNPS\n",
      "SPGI\n",
      "SYK\n",
      "T\n",
      "TJX\n",
      "TSLA\n",
      "TXN\n",
      "UNH\n",
      "UNP\n",
      "UPS\n",
      "VRTX\n"
     ]
    }
   ],
   "source": [
    "for i in range(len(eps_df.columns[1:])):\n",
    "    if IV[i] != 'NA':\n",
    "        print(eps_df.columns[i])"
   ]
  },
  {
   "cell_type": "code",
   "execution_count": null,
   "metadata": {},
   "outputs": [],
   "source": []
  }
 ],
 "metadata": {
  "kernelspec": {
   "display_name": "base",
   "language": "python",
   "name": "python3"
  },
  "language_info": {
   "codemirror_mode": {
    "name": "ipython",
    "version": 3
   },
   "file_extension": ".py",
   "mimetype": "text/x-python",
   "name": "python",
   "nbconvert_exporter": "python",
   "pygments_lexer": "ipython3",
   "version": "3.1.undefined"
  }
 },
 "nbformat": 4,
 "nbformat_minor": 2
}
